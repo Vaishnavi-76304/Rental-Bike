{
  "cells": [
    {
      "cell_type": "markdown",
      "metadata": {
        "id": "view-in-github",
        "colab_type": "text"
      },
      "source": [
        "<a href=\"https://colab.research.google.com/github/Vaishnavi-76304/Rental-Bike/blob/main/Bike_Rent_OOPs_Project.ipynb\" target=\"_parent\"><img src=\"https://colab.research.google.com/assets/colab-badge.svg\" alt=\"Open In Colab\"/></a>"
      ]
    },
    {
      "cell_type": "markdown",
      "id": "303d18ca",
      "metadata": {
        "id": "303d18ca"
      },
      "source": [
        "## OOP project"
      ]
    },
    {
      "cell_type": "markdown",
      "id": "5cada111",
      "metadata": {
        "id": "5cada111"
      },
      "source": [
        "A Bike Rental System\n",
        "\n",
        "A full fledged bike rental system implemented in Python using object oriented programming.\n",
        "\n",
        "Customers can see available bikes on the shop.\n",
        "Rent bikes on daily basis Rs.100 per day.\n",
        "Rent bikes on weekly basis Rs.500 per week.\n",
        "Family Rental, a promotion that can include from 3 to 5 Rentals (of any type) with a discount of 30% of the total price.\n",
        "\n",
        "The bike rental shop can issue a bill when customer decides to return the bike,\n",
        "display available inventory ,take requests on daily and weekly basis by cross verifying stock.\n",
        "\n",
        "For simplicity we assume that\n",
        "Any customer requests rentals of only one type i.e daily or weekly and is free to choose the number of bikes he/she wants.\n",
        "Requested bikes should be less than available stock."
      ]
    },
    {
      "cell_type": "markdown",
      "id": "abae9162",
      "metadata": {
        "id": "abae9162"
      },
      "source": [
        "## Step 1\n",
        "\n",
        "Create a parent class `BikeRental`. Define `stock` as `class attribute` and assign value 100 to it.\n",
        "\n",
        "This class should not take any other attribute and when the object is created, it should display the message \"Welcome to rental bike shop.\"\n",
        "\n",
        "Define a method `displaystock` inside this class and when this method is called, it should display the total number of stock available."
      ]
    },
    {
      "cell_type": "code",
      "execution_count": null,
      "id": "8816e06c",
      "metadata": {
        "id": "8816e06c",
        "colab": {
          "base_uri": "https://localhost:8080/"
        },
        "outputId": "8a01569a-66be-4107-c96a-0d2c86cb0b37"
      },
      "outputs": [
        {
          "output_type": "stream",
          "name": "stdout",
          "text": [
            "Welcome to Rental Bike Shop\n"
          ]
        }
      ],
      "source": [
        "class BikeRental:\n",
        "  stock = 100\n",
        "  print(\"Welcome to Rental Bike Shop\")\n",
        "  def displaystock(self):\n",
        "    print(\"Total No. of Bike Available on Rent: \" +str(self.stock))"
      ]
    },
    {
      "cell_type": "markdown",
      "id": "2ca3fb5c",
      "metadata": {
        "id": "2ca3fb5c"
      },
      "source": [
        "Create an object `bike_shop` of above class."
      ]
    },
    {
      "cell_type": "code",
      "execution_count": null,
      "id": "5184fc96",
      "metadata": {
        "id": "5184fc96"
      },
      "outputs": [],
      "source": [
        "bike_shop = BikeRental()"
      ]
    },
    {
      "cell_type": "markdown",
      "id": "73d006a8",
      "metadata": {
        "id": "73d006a8"
      },
      "source": [
        "Check if above created object can access the `class attribute` `stock`."
      ]
    },
    {
      "cell_type": "code",
      "execution_count": null,
      "id": "a96da206",
      "metadata": {
        "scrolled": true,
        "colab": {
          "base_uri": "https://localhost:8080/"
        },
        "id": "a96da206",
        "outputId": "bf4362c1-a2d8-49f7-dde5-517f27413100"
      },
      "outputs": [
        {
          "output_type": "stream",
          "name": "stdout",
          "text": [
            "100\n"
          ]
        }
      ],
      "source": [
        "print(bike_shop.stock)"
      ]
    },
    {
      "cell_type": "markdown",
      "id": "a702f97d",
      "metadata": {
        "id": "a702f97d"
      },
      "source": [
        "Call the method `displaystock` using above created object `bike_shop`."
      ]
    },
    {
      "cell_type": "code",
      "execution_count": null,
      "id": "c4dc35b0",
      "metadata": {
        "colab": {
          "base_uri": "https://localhost:8080/"
        },
        "id": "c4dc35b0",
        "outputId": "9510db40-3b98-45b1-e137-63480a1402d8"
      },
      "outputs": [
        {
          "output_type": "stream",
          "name": "stdout",
          "text": [
            "Total No. of Bike Available on Rent: 100\n"
          ]
        }
      ],
      "source": [
        "bike_shop.displaystock()"
      ]
    },
    {
      "cell_type": "markdown",
      "id": "d3a33de1",
      "metadata": {
        "id": "d3a33de1"
      },
      "source": [
        "## Step 2\n",
        "\n",
        "Create a derived class `Customer` to inherit the methods from `BikeRental` class.\n",
        "Define `bill` as `class attribute`and set it's initial value as zero.\n",
        "\n",
        "This class has `number_of_bikes`, `rentalBasis` (daily or weekly) and `number_of_days_or_weeks` as attributes."
      ]
    },
    {
      "cell_type": "code",
      "execution_count": null,
      "id": "50196270",
      "metadata": {
        "id": "50196270"
      },
      "outputs": [],
      "source": [
        "class Customer(BikeRental):\n",
        "  bill = 0\n",
        "  def __init__(self, number_of_bikes, rentalBasis,number_of_days_or_weeks):\n",
        "    super().__init__()\n",
        "    self.number_of_bikes = number_of_bikes\n",
        "    self.rentalBasis = rentalBasis\n",
        "    self.number_of_days_or_weeks = number_of_days_or_weeks"
      ]
    },
    {
      "cell_type": "markdown",
      "id": "98a400fe",
      "metadata": {
        "id": "98a400fe"
      },
      "source": [
        "Define a function `rentBike`, it should have following conditions:\n",
        "\n",
        "- if `number_of_bikes` is less than or equal to zero, it should display the message \"Number of bikes should be positive!\".\n",
        "\n",
        "- if `number_of_bikes` is greater than the `stock`, it should display the `number_of_bikes` available to rent.\n",
        "\n",
        "- Otherwise display the total `number_of_bikes` rented by the customer. Do not forget to update the value of `stock` i.e. subtract the `number_of_bikes` rented from stock and display the updated `stock`."
      ]
    },
    {
      "cell_type": "code",
      "execution_count": null,
      "id": "0f15d993",
      "metadata": {
        "id": "0f15d993"
      },
      "outputs": [],
      "source": [
        "def rentBike(self):\n",
        "    if self.number_of_bikes <= 0:\n",
        "      return \"Number of bikes should be positive!\"\n",
        "\n",
        "    elif self.number_of_bikes > BikeRental.stock:\n",
        "      return f\"We Have Currently {self.number_of_bikes} Bikes Available On Rent: \"\n",
        "\n",
        "    else:\n",
        "      BikeRental.stock-=self.number_of_bikes\n",
        "      return f\"The Updated Stock is: {BikeRental.stock} \"\n"
      ]
    },
    {
      "cell_type": "markdown",
      "id": "cb22ec0f",
      "metadata": {
        "id": "cb22ec0f"
      },
      "source": [
        "Define a function `returnBike` to return the total bill of customer.\n",
        "- Check if `rentalBasis` is ' daily ' or ' weekly ' and accordingly calculate the bill. Rent on ' daily ' basis is Rs. 100 per bike and for ' weekly ' basis it is Rs. 500 per bike.\n",
        "\n",
        "- If `number_of_bikes` rented by customer is between 3 to 5 (both values inclusive), 30% discount is offered on total bill. So it should display the message \"You are eligible for Family rental promotion of 30% discount\"."
      ]
    },
    {
      "cell_type": "code",
      "execution_count": null,
      "id": "48be1e59",
      "metadata": {
        "id": "48be1e59"
      },
      "outputs": [],
      "source": [
        "def returnBike(self,rentalBasis):\n",
        "    self.rentalBasis = rentalBasis\n",
        "    if self.rentalBasis=='day' :\n",
        "      if self.number_of_bikes>=3 and self.number_of_bikes<=5:\n",
        "        bill = 100*self.number_of_bikes*self.number_of_days_or_weeks\n",
        "        bill-= bill*0.3\n",
        "        print(f\"You are eligible for Family rental promotion of 30% discount : {bill}\")\n",
        "      else:\n",
        "        bill = 100*self.number_of_bikes*self.number_of_days_or_weeks\n",
        "        return f'Bill By daily : {bill}'\n",
        "    elif self.rentalBasis=='week':\n",
        "      if self.number_of_bikes>=3 and self.number_of_bikes<=5:\n",
        "          bill =500*self.number_of_bikes*self.number_of_days_or_weeks\n",
        "          bill-= bill*0.3\n",
        "          print(f\"You are eligible for Family rental promotion of 30% discount : {bill}\")\n",
        "      else:\n",
        "          bill =500*self.number_of_bikes*self.number_of_days_or_weeks\n",
        "          return f'Bill By Weekly : {bill}'"
      ]
    },
    {
      "cell_type": "markdown",
      "id": "fa66397a",
      "metadata": {
        "id": "fa66397a"
      },
      "source": [
        "## Step 3\n",
        "\n",
        "Write complete `Customer` class using above defined functions `returnBike` and `rentBike` inside it as methods."
      ]
    },
    {
      "cell_type": "code",
      "execution_count": null,
      "id": "e1c7c3f5",
      "metadata": {
        "id": "e1c7c3f5"
      },
      "outputs": [],
      "source": [
        "class Customer(BikeRental):\n",
        "   bill=0\n",
        "   def __init__(self,number_of_bikes,rentalBasis,number_of_days_or_weeks):\n",
        "            self.number_of_bikes=number_of_bikes\n",
        "            self.rentalBasis=rentalBasis\n",
        "            self.number_of_days_or_weeks=number_of_days_or_weeks\n",
        "   def rentBike(self):\n",
        "        if self.number_of_bikes<=0:\n",
        "            return\"Number of bikes should be positive!\"\n",
        "        elif self.number_of_bikes>BikeRental.stock:\n",
        "            return f\"{BikeRental.stock} Available To Rent.\"\n",
        "        else:\n",
        "            BikeRental.stock-=self.number_of_bikes\n",
        "            return f\"The Updated Stock is : {BikeRental.stock}\"\n",
        "   def returnBike(self,rentalBasis):\n",
        "        self.rentalBasis=rentalBasis\n",
        "        if self.rentalBasis=='day' :\n",
        "            if self.number_of_bikes>=3 and self.number_of_bikes<=5:\n",
        "                bill = 100*self.number_of_bikes*self.number_of_days_or_weeks\n",
        "                bill-= bill*0.3\n",
        "                print(f\"You are eligible for Family rental promotion of 30% discount : {bill}\")\n",
        "            else:\n",
        "                bill = 100*self.number_of_bikes*self.number_of_days_or_weeks\n",
        "                return f'Bill By daily : {bill}'\n",
        "        elif self.rentalBasis=='week':\n",
        "            if self.number_of_bikes>=3 and self.number_of_bikes<=5:\n",
        "                bill =500*self.number_of_bikes*self.number_of_days_or_weeks\n",
        "                bill-= bill*0.3\n",
        "                print(f\"You are eligible for Family rental promotion of 30% discount : {bill}\")\n",
        "            else:\n",
        "                bill =500*self.number_of_bikes*self.number_of_days_or_weeks\n",
        "                return f'Bill By Weekly : {bill}'"
      ]
    },
    {
      "cell_type": "markdown",
      "id": "dea7483f",
      "metadata": {
        "id": "dea7483f"
      },
      "source": [
        "## Step 4\n",
        "\n",
        "Check your `Bike Rental System` for test-case objects given below :\n",
        "\n",
        "For first four customers - check all the three attribute values and call `rentBike` and `returnBike` methods.\n",
        "\n",
        "- customer_1 = Customer(2,'day',5)\n",
        "\n",
        "- customer_2 = Customer(1,'week',3)\n",
        "\n",
        "- customer_3 = Customer(4,'day',3)  - Is family discount applicable here ?\n",
        "\n",
        "- customer_4 = Customer(3,'week',3) - Is family discount applicable here ?\n",
        "\n",
        "Call `rentBike` and `displaystock` methods for test-case objects given below :\n",
        "\n",
        "- customer_5 = Customer(120,'week',3)\n",
        "\n",
        "- customer_6 = Customer(0,'week',3)\n",
        "\n",
        "- customer_7 = Customer(-5,'week',3)\n",
        "\n",
        "- customer_8 = Customer(1,'day',3)"
      ]
    },
    {
      "cell_type": "code",
      "execution_count": null,
      "id": "40d0a7aa",
      "metadata": {
        "id": "40d0a7aa",
        "colab": {
          "base_uri": "https://localhost:8080/"
        },
        "outputId": "731447a2-f189-4e59-d01b-8f627dd18577"
      },
      "outputs": [
        {
          "output_type": "stream",
          "name": "stdout",
          "text": [
            "The Updated Stock is : 98\n",
            "Bill By daily : 1000\n"
          ]
        }
      ],
      "source": [
        "customer_1 = Customer(2,'day',5)\n",
        "print(customer_1.rentBike())\n",
        "print(customer_1.returnBike('day'))"
      ]
    },
    {
      "cell_type": "code",
      "source": [
        "customer_2 = Customer(4,'week',3)\n",
        "customer_2.rentBike()\n",
        "customer_2.returnBike('week')"
      ],
      "metadata": {
        "colab": {
          "base_uri": "https://localhost:8080/"
        },
        "id": "ht4cFwfJcg7w",
        "outputId": "a2cf1c02-8749-4b45-fc69-c742730d0358"
      },
      "id": "ht4cFwfJcg7w",
      "execution_count": null,
      "outputs": [
        {
          "output_type": "stream",
          "name": "stdout",
          "text": [
            "You are eligible for Family rental promotion of 30% discount : 4200.0\n"
          ]
        }
      ]
    },
    {
      "cell_type": "code",
      "source": [
        "Customer_3 = Customer(4,'day',3)\n",
        "print(Customer_3.rentBike())\n",
        "print(Customer_3.returnBike('day'))"
      ],
      "metadata": {
        "id": "dve6AYTwCZjn",
        "colab": {
          "base_uri": "https://localhost:8080/"
        },
        "outputId": "9f9f486a-4894-461e-ad74-5be6ece53d08"
      },
      "id": "dve6AYTwCZjn",
      "execution_count": null,
      "outputs": [
        {
          "output_type": "stream",
          "name": "stdout",
          "text": [
            "The Updated Stock is : 90\n",
            "You are eligible for Family rental promotion of 30% discount : 840.0\n",
            "None\n"
          ]
        }
      ]
    },
    {
      "cell_type": "code",
      "source": [
        "Customer_4 = Customer(3,'week',3)\n",
        "print(Customer_4.rentBike())\n",
        "print(Customer_4.returnBike('week'))"
      ],
      "metadata": {
        "colab": {
          "base_uri": "https://localhost:8080/"
        },
        "id": "WK0NjLTW-wgI",
        "outputId": "e2646a1a-4250-49e9-c2c9-ece53a8b5640"
      },
      "id": "WK0NjLTW-wgI",
      "execution_count": null,
      "outputs": [
        {
          "output_type": "stream",
          "name": "stdout",
          "text": [
            "The Updated Stock is : 87\n",
            "You are eligible for Family rental promotion of 30% discount : 3150.0\n",
            "None\n"
          ]
        }
      ]
    },
    {
      "cell_type": "code",
      "source": [
        "# Call rentBike and displaystock methods for test-case objects given below :\n",
        "customer_5 = Customer(120,'week',3)\n",
        "print(customer_5.rentBike())\n",
        "print(customer_5.displaystock())"
      ],
      "metadata": {
        "colab": {
          "base_uri": "https://localhost:8080/"
        },
        "id": "oCxaKdKeFkit",
        "outputId": "a89b12a7-6c09-4b24-9f48-7b8473f84514"
      },
      "id": "oCxaKdKeFkit",
      "execution_count": null,
      "outputs": [
        {
          "output_type": "stream",
          "name": "stdout",
          "text": [
            "87 Available To Rent.\n",
            "Total No. of Bike Available on Rent: 87\n",
            "None\n"
          ]
        }
      ]
    },
    {
      "cell_type": "code",
      "source": [
        "customer_6 = Customer(0,'week',3)\n",
        "print(customer_6.rentBike())\n",
        "print(customer_6.displaystock())"
      ],
      "metadata": {
        "colab": {
          "base_uri": "https://localhost:8080/"
        },
        "id": "1R_Q-tlsFoe2",
        "outputId": "5438adf1-8f2b-45cd-9c2c-e02729033692"
      },
      "id": "1R_Q-tlsFoe2",
      "execution_count": null,
      "outputs": [
        {
          "output_type": "stream",
          "name": "stdout",
          "text": [
            "Number of bikes should be positive!\n",
            "Total No. of Bike Available on Rent: 87\n",
            "None\n"
          ]
        }
      ]
    },
    {
      "cell_type": "code",
      "source": [
        "customer_7 = Customer(-5,'week',3)\n",
        "print(customer_7.rentBike())\n",
        "print(customer_7.displaystock())"
      ],
      "metadata": {
        "colab": {
          "base_uri": "https://localhost:8080/"
        },
        "id": "asdeIv2RFqwu",
        "outputId": "5849874c-4662-4955-ceda-2da920709e12"
      },
      "id": "asdeIv2RFqwu",
      "execution_count": null,
      "outputs": [
        {
          "output_type": "stream",
          "name": "stdout",
          "text": [
            "Number of bikes should be positive!\n",
            "Total No. of Bike Available on Rent: 87\n",
            "None\n"
          ]
        }
      ]
    },
    {
      "cell_type": "code",
      "source": [
        "customer_8 = Customer(1,'day',3)\n",
        "print(customer_8.rentBike())\n",
        "print(customer_8.displaystock())"
      ],
      "metadata": {
        "colab": {
          "base_uri": "https://localhost:8080/"
        },
        "id": "a54SZxQVFvaN",
        "outputId": "2b396e5c-43fa-4704-b6d2-6beb014a618b"
      },
      "id": "a54SZxQVFvaN",
      "execution_count": null,
      "outputs": [
        {
          "output_type": "stream",
          "name": "stdout",
          "text": [
            "The Updated Stock is : 86\n",
            "Total No. of Bike Available on Rent: 86\n",
            "None\n"
          ]
        }
      ]
    },
    {
      "cell_type": "code",
      "source": [],
      "metadata": {
        "id": "I2eAyuQvGDxf"
      },
      "id": "I2eAyuQvGDxf",
      "execution_count": null,
      "outputs": []
    }
  ],
  "metadata": {
    "kernelspec": {
      "display_name": "Python 3",
      "language": "python",
      "name": "python3"
    },
    "language_info": {
      "codemirror_mode": {
        "name": "ipython",
        "version": 3
      },
      "file_extension": ".py",
      "mimetype": "text/x-python",
      "name": "python",
      "nbconvert_exporter": "python",
      "pygments_lexer": "ipython3",
      "version": "3.8.8"
    },
    "colab": {
      "provenance": [],
      "include_colab_link": true
    }
  },
  "nbformat": 4,
  "nbformat_minor": 5
}